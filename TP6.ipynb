{
 "cells": [
  {
   "cell_type": "markdown",
   "metadata": {},
   "source": [
    "### Ex 1 : La m ́ethode des rectangles On cherche à calculer une intégrale en utilisant la méthode des rectangles."
   ]
  },
  {
   "cell_type": "code",
   "execution_count": null,
   "metadata": {},
   "outputs": [],
   "source": [
    "1- Ecrire la fontion integrale(f,a,b,n) "
   ]
  },
  {
   "cell_type": "code",
   "execution_count": 2,
   "metadata": {},
   "outputs": [],
   "source": [
    "import numpy as np\n",
    "import math\n",
    "\n",
    "def integrale(f, a, b, n):\n",
    "    \n",
    "    integrale = 0\n",
    "    k=a;\n",
    "    while(k < b):\n",
    "        largeur = (b-a)/n\n",
    "        hauteur = f(a + k*(b-a)/n)\n",
    "        aire = largeur * hauteur\n",
    "        integrale += aire\n",
    "        k+=n\n",
    " \n",
    "    return integrale"
   ]
  },
  {
   "cell_type": "raw",
   "metadata": {},
   "source": [
    "Question 1 avec boucle for"
   ]
  },
  {
   "cell_type": "code",
   "execution_count": 13,
   "metadata": {},
   "outputs": [
    {
     "data": {
      "text/plain": [
       "0.55"
      ]
     },
     "execution_count": 13,
     "metadata": {},
     "output_type": "execute_result"
    }
   ],
   "source": [
    "def integrale(f, a, b, n):\n",
    "    somme = 0\n",
    "    h = float(b-a) / n\n",
    "    x = a\n",
    "    for i in range(0, n + 1):\n",
    "        somme += f(x) * h\n",
    "        x += h\n",
    "    return somme\n",
    "\n",
    "# On vérifie ave un cas simple.\n",
    "integrale(lambda x: x, 0, 1, 10)"
   ]
  },
  {
   "cell_type": "raw",
   "metadata": {},
   "source": [
    "2- Quelle valeur de n faut-il choisir pour être précis à 10^{-4} près ? Ecrire la fonction qui permette de calculer cette valeur."
   ]
  },
  {
   "cell_type": "code",
   "execution_count": 14,
   "metadata": {},
   "outputs": [
    {
     "data": {
      "text/plain": [
       "(0.49995000000000056, 100)"
      ]
     },
     "execution_count": 14,
     "metadata": {},
     "output_type": "execute_result"
    }
   ],
   "source": [
    "def integrale_precise(f, a, b, n0, precision):\n",
    "    val = integrale(f, a, b, n0)\n",
    "    val0 = None\n",
    "    while val0 is None or abs(val - val0) / val0 > precision:\n",
    "        val0 = val\n",
    "        n0 += 1\n",
    "        val = integrale(f, a, b, n0)\n",
    "    return val, n0\n",
    "\n",
    "integrale_precise(lambda x: x, 0.1, 1, 10, 1e-4)"
   ]
  },
  {
   "cell_type": "raw",
   "metadata": {},
   "source": [
    "3- Tester avec la fonction 𝑓(𝑥)=3𝑥3+2𝑥−1 sur l'interval [0,10] avec un pas de 0.001"
   ]
  },
  {
   "cell_type": "code",
   "execution_count": 5,
   "metadata": {},
   "outputs": [
    {
     "name": "stdout",
     "output_type": "stream",
     "text": [
      "7.501500076001311e+22\n"
     ]
    }
   ],
   "source": [
    "f = lambda x : 3*x**3 + 2*x - 1\n",
    "print(integrale(f,0,10,0.001))"
   ]
  },
  {
   "cell_type": "raw",
   "metadata": {},
   "source": [
    "4- Tester avec la fonction $g(x)=cos(\\frac {1}{})"
   ]
  },
  {
   "cell_type": "code",
   "execution_count": 11,
   "metadata": {},
   "outputs": [
    {
     "name": "stdout",
     "output_type": "stream",
     "text": [
      "98019899.49751785\n"
     ]
    }
   ],
   "source": [
    "import math\n",
    "g = lambda x : math.cos(1/x)\n",
    "print(integrale(g,0.1,10,0.001))"
   ]
  },
  {
   "cell_type": "raw",
   "metadata": {},
   "source": [
    "Exo 1 autre méthode "
   ]
  },
  {
   "cell_type": "code",
   "execution_count": 24,
   "metadata": {},
   "outputs": [],
   "source": [
    "def calculate_dx (a, b, n):\n",
    "    return (b-a)/float(n)\n",
    "\n",
    "def f(x):\n",
    "    return 3*x**2\n",
    "\n",
    "def integrale (f, a, b, n):\n",
    "    Total=0\n",
    "    dx=calculate_dx (a, b, n)\n",
    "    for i in range(1,n+1):\n",
    "        fi=f(a+i*(dx))\n",
    "        Total=Total+fi\n",
    "    integral=Total*dx\n",
    "    return(integral)"
   ]
  },
  {
   "cell_type": "code",
   "execution_count": 25,
   "metadata": {},
   "outputs": [
    {
     "data": {
      "text/latex": [
       "$\\displaystyle -2 + \\pi$"
      ],
      "text/plain": [
       "-2 + pi"
      ]
     },
     "execution_count": 25,
     "metadata": {},
     "output_type": "execute_result"
    }
   ],
   "source": [
    "from sympy import *\n",
    "t= Symbol('t')\n",
    "integrate(t**2*sin(t), (t,0,pi/2))"
   ]
  },
  {
   "cell_type": "code",
   "execution_count": 27,
   "metadata": {},
   "outputs": [
    {
     "name": "stdout",
     "output_type": "stream",
     "text": [
      "10110\n"
     ]
    }
   ],
   "source": [
    "import numpy as np\n",
    "x= Symbol('x')\n",
    "def f(x):\n",
    "    return x**2+x\n",
    "\n",
    "n=10\n",
    "a=0\n",
    "b=1\n",
    "integral_real=integrate(x**2+x, (x,a,b))\n",
    "higherror=True\n",
    "step=100\n",
    "                        \n",
    "while (higherror):\n",
    "    integral_num=integrale(f,0,1,n)\n",
    "    if np.abs(integral_num-integral_real)<10**-4:\n",
    "        higherror=False\n",
    "    n=n+step\n",
    "\n",
    "\n",
    "\n",
    "print(n) "
   ]
  },
  {
   "cell_type": "markdown",
   "metadata": {},
   "source": [
    "### Ex2: Méthode des trapèzes "
   ]
  },
  {
   "cell_type": "raw",
   "metadata": {},
   "source": [
    "Question 2"
   ]
  },
  {
   "cell_type": "code",
   "execution_count": 18,
   "metadata": {},
   "outputs": [],
   "source": [
    "def trapezes(f, a, b, N):\n",
    "     pas = (b-a) / N\n",
    "     x = a\n",
    "     somme = (f(a) + f(b)) / 2\n",
    "    \n",
    "     for _ in range(N-1):\n",
    "        x += pas\n",
    "        somme += f(x)\n",
    "     return somme / N"
   ]
  },
  {
   "cell_type": "code",
   "execution_count": 20,
   "metadata": {},
   "outputs": [
    {
     "data": {
      "text/plain": [
       "3.750074999999998"
      ]
     },
     "execution_count": 20,
     "metadata": {},
     "output_type": "execute_result"
    }
   ],
   "source": [
    "trapezes(lambda x: x**3, 2, 1, 100)"
   ]
  },
  {
   "cell_type": "raw",
   "metadata": {},
   "source": [
    "Global exo 2"
   ]
  },
  {
   "cell_type": "code",
   "execution_count": 16,
   "metadata": {},
   "outputs": [
    {
     "name": "stdout",
     "output_type": "stream",
     "text": [
      "9.895938968543474 0.02625897041295211\n",
      "9.899622911908546 0.02257502704788017\n",
      "9.902046784751798 0.020151154204627986\n",
      "9.905366237171464 0.016831701784962405\n",
      "9.907800940305057 0.01439699865136923\n",
      "9.90956318990382 0.012634749052606864\n",
      "9.911080512926254 0.011117426030171629\n",
      "9.912360486488963 0.009837452467463592\n",
      "9.913417782886773 0.008780156069652989\n",
      "9.914312709599622 0.007885229356803691\n"
     ]
    }
   ],
   "source": [
    "import math \n",
    " \n",
    " \n",
    "def trapezes(a, b, n, f): \n",
    "    \n",
    "    S = 0 \n",
    "    for i in range(0, n): \n",
    "        x1 = a + (b - a) * i / float(n) \n",
    "        x2 = a + (b - a) * (i + 1) / float(n) \n",
    "        S += (f(x1) + f(x2)) / 2.0 * (x2 - x1) \n",
    "    return S \n",
    " \n",
    " \n",
    "def fonc(x): \n",
    "    return 4.0 / (1 + (x - 3) * (x - 3)) \n",
    " \n",
    " \n",
    "def main(): \n",
    "    \n",
    "    t = 4 * (math.atan(5) + math.atan(2)) \n",
    "    for i in range(10, 20): \n",
    "        s = trapezes(1, 8, i, fonc) \n",
    "        print(s, t - s) \n",
    " \n",
    " \n",
    "if __name__ == '__main__': \n",
    "    main() \n",
    " "
   ]
  },
  {
   "cell_type": "code",
   "execution_count": null,
   "metadata": {},
   "outputs": [],
   "source": []
  }
 ],
 "metadata": {
  "kernelspec": {
   "display_name": "Python 3",
   "language": "python",
   "name": "python3"
  },
  "language_info": {
   "codemirror_mode": {
    "name": "ipython",
    "version": 3
   },
   "file_extension": ".py",
   "mimetype": "text/x-python",
   "name": "python",
   "nbconvert_exporter": "python",
   "pygments_lexer": "ipython3",
   "version": "3.7.6"
  }
 },
 "nbformat": 4,
 "nbformat_minor": 4
}
